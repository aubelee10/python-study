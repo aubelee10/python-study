{
 "cells": [
  {
   "cell_type": "code",
   "execution_count": null,
   "id": "63602d76",
   "metadata": {},
   "outputs": [],
   "source": [
    "\n"
   ]
  },
  {
   "cell_type": "code",
   "execution_count": null,
   "id": "026d43c9",
   "metadata": {},
   "outputs": [],
   "source": []
  },
  {
   "cell_type": "code",
   "execution_count": null,
   "id": "7ed8cec5",
   "metadata": {},
   "outputs": [],
   "source": [
    "\n"
   ]
  },
  {
   "cell_type": "code",
   "execution_count": 11,
   "id": "1d453ed5",
   "metadata": {},
   "outputs": [
    {
     "ename": "NameError",
     "evalue": "name 'f' is not defined",
     "output_type": "error",
     "traceback": [
      "\u001b[31m---------------------------------------------------------------------------\u001b[39m",
      "\u001b[31mNameError\u001b[39m                                 Traceback (most recent call last)",
      "\u001b[36mCell\u001b[39m\u001b[36m \u001b[39m\u001b[32mIn[11]\u001b[39m\u001b[32m, line 1\u001b[39m\n\u001b[32m----> \u001b[39m\u001b[32m1\u001b[39m \u001b[43mf\u001b[49m.open(\u001b[33m\"\u001b[39m\u001b[33mdata.txt\u001b[39m\u001b[33m\"\u001b[39m,\u001b[33m'\u001b[39m\u001b[33mr\u001b[39m\u001b[33m'\u001b[39m)\n\u001b[32m      2\u001b[39m data=\u001b[33m\"\u001b[39m\u001b[33m테스트파일을 쓰기(w)합니다.\u001b[39m\u001b[33m\"\u001b[39m\n\u001b[32m      3\u001b[39m \u001b[38;5;28mprint\u001b[39m(f.read())\n",
      "\u001b[31mNameError\u001b[39m: name 'f' is not defined"
     ]
    }
   ],
   "source": [
    "f.open(\"data.txt\",'r')\n",
    "data=\"테스트파일을 쓰기(w)합니다.\"\n",
    "print(f.read())\n",
    "\n"
   ]
  },
  {
   "cell_type": "code",
   "execution_count": null,
   "id": "98d76322",
   "metadata": {},
   "outputs": [],
   "source": []
  },
  {
   "cell_type": "code",
   "execution_count": null,
   "id": "e7893851",
   "metadata": {},
   "outputs": [],
   "source": []
  },
  {
   "cell_type": "code",
   "execution_count": 15,
   "id": "fb6b3a69",
   "metadata": {},
   "outputs": [],
   "source": [
    "f = open(\"data.txt\", 'w')\n",
    "data = \"테스트 파일을 쓰기(w)합니다.\"\n",
    "f.write(data)\n",
    "\n",
    "f.close()"
   ]
  },
  {
   "cell_type": "code",
   "execution_count": 19,
   "id": "bd04c48e",
   "metadata": {},
   "outputs": [
    {
     "ename": "IndentationError",
     "evalue": "unexpected indent (2688683889.py, line 2)",
     "output_type": "error",
     "traceback": [
      "  \u001b[36mCell\u001b[39m\u001b[36m \u001b[39m\u001b[32mIn[19]\u001b[39m\u001b[32m, line 2\u001b[39m\n\u001b[31m    \u001b[39m\u001b[31mdata = \"테스트 파일에 추가(a)합니다.\"\u001b[39m\n    ^\n\u001b[31mIndentationError\u001b[39m\u001b[31m:\u001b[39m unexpected indent\n"
     ]
    }
   ],
   "source": [
    " open(\"data.txt\", \"a\") \n",
    "    data = \"테스트 파일에 추가(a)합니다.\"\n",
    "    f.a(data)\n",
    "    f.ciose()\n"
   ]
  },
  {
   "cell_type": "code",
   "execution_count": 21,
   "id": "8771614d",
   "metadata": {},
   "outputs": [
    {
     "ename": "IndentationError",
     "evalue": "unexpected indent (1587586860.py, line 2)",
     "output_type": "error",
     "traceback": [
      "  \u001b[36mCell\u001b[39m\u001b[36m \u001b[39m\u001b[32mIn[21]\u001b[39m\u001b[32m, line 2\u001b[39m\n\u001b[31m    \u001b[39m\u001b[31mdata=\"테스트 파일을 읽습니다.\"\u001b[39m\n    ^\n\u001b[31mIndentationError\u001b[39m\u001b[31m:\u001b[39m unexpected indent\n"
     ]
    }
   ],
   "source": [
    "open(\"data.txt\", \"r\") \n",
    "    data=\"테스트 파일을 읽습니다.\"\n",
    "    f.read()\n",
    "    f.close()\n"
   ]
  },
  {
   "cell_type": "code",
   "execution_count": 28,
   "id": "88923850",
   "metadata": {},
   "outputs": [
    {
     "name": "stdout",
     "output_type": "stream",
     "text": [
      "f(1) : 101\n",
      "f(2) : 401\n"
     ]
    }
   ],
   "source": [
    "def f(x) :\n",
    "    y = x**2 + 1\n",
    "    return y\n",
    "\n",
    "y = f(10)\n",
    "print(\"f(1) :\", y)\n",
    "\n",
    "y = f(20)\n",
    "print(\"f(2) :\", y)\n",
    "\n"
   ]
  },
  {
   "cell_type": "code",
   "execution_count": 32,
   "id": "26685542",
   "metadata": {},
   "outputs": [
    {
     "name": "stdout",
     "output_type": "stream",
     "text": [
      "g(10,5) : 25\n",
      "g(8,4) : 16\n"
     ]
    }
   ],
   "source": [
    "def g(a, b) :\n",
    "    y = (a-b)**2\n",
    "    return y\n",
    "\n",
    "y = g(10,5)\n",
    "print(\"g(10,5) :\", y)\n",
    "\n",
    "y = g(8,4)\n",
    "print(\"g(8,4) :\", y)\n",
    "\n"
   ]
  },
  {
   "cell_type": "code",
   "execution_count": null,
   "id": "7c707b6d",
   "metadata": {},
   "outputs": [],
   "source": [
    "300%60\n",
    "5"
   ]
  },
  {
   "cell_type": "code",
   "execution_count": null,
   "id": "dde9b80c",
   "metadata": {},
   "outputs": [],
   "source": [
    "300//58\n"
   ]
  },
  {
   "cell_type": "code",
   "execution_count": null,
   "id": "f4faebe9",
   "metadata": {},
   "outputs": [],
   "source": [
    "300%58\n",
    "\n",
    "\n",
    "\n"
   ]
  },
  {
   "cell_type": "markdown",
   "id": "2f7d34b0",
   "metadata": {},
   "source": []
  },
  {
   "cell_type": "code",
   "execution_count": null,
   "id": "048c7d67",
   "metadata": {},
   "outputs": [],
   "source": [
    "x=30\n",
    "\n",
    "\n"
   ]
  },
  {
   "cell_type": "code",
   "execution_count": null,
   "id": "f610a886",
   "metadata": {},
   "outputs": [],
   "source": [
    "x=5\n",
    "if x>20:\n",
    "    print(\"20보다 큽니다.\")\n",
    "\n"
   ]
  },
  {
   "cell_type": "code",
   "execution_count": null,
   "id": "a97bb4f7",
   "metadata": {},
   "outputs": [],
   "source": [
    "0==True"
   ]
  },
  {
   "cell_type": "code",
   "execution_count": null,
   "id": "b279ae84",
   "metadata": {},
   "outputs": [],
   "source": [
    "x={\"개똥이:10\",\"철수:20\",\"영희:40\"}\n",
    "print(\"개똥이:10\")\n"
   ]
  },
  {
   "cell_type": "code",
   "execution_count": null,
   "id": "755b1d5a",
   "metadata": {},
   "outputs": [],
   "source": [
    "x=['a','b']\n",
    "\n",
    "x.append('d')\n",
    "print(x)\n"
   ]
  },
  {
   "cell_type": "code",
   "execution_count": null,
   "id": "fc0e0e55",
   "metadata": {},
   "outputs": [],
   "source": [
    "x=['a','b','c']\n",
    "x.pop(1)\n",
    "print(x)\n",
    "\n"
   ]
  },
  {
   "cell_type": "markdown",
   "id": "00d2a55d",
   "metadata": {},
   "source": []
  }
 ],
 "metadata": {
  "kernelspec": {
   "display_name": "Python 3",
   "language": "python",
   "name": "python3"
  },
  "language_info": {
   "codemirror_mode": {
    "name": "ipython",
    "version": 3
   },
   "file_extension": ".py",
   "mimetype": "text/x-python",
   "name": "python",
   "nbconvert_exporter": "python",
   "pygments_lexer": "ipython3",
   "version": "3.12.1"
  }
 },
 "nbformat": 4,
 "nbformat_minor": 5
}
